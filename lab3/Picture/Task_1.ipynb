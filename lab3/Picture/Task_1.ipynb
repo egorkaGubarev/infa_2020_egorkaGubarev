{
 "cells": [
  {
   "cell_type": "code",
   "execution_count": 53,
   "metadata": {},
   "outputs": [
    {
     "name": "stderr",
     "output_type": "stream",
     "text": [
      "<ipython-input-53-775dee0e7cc7>:53: DeprecationWarning: an integer is required (got type float).  Implicit conversion to integers using __int__ is deprecated, and may be removed in a future version of Python.\n",
      "  polygon(screen, line_color, left_line_coors)\n",
      "<ipython-input-53-775dee0e7cc7>:54: DeprecationWarning: an integer is required (got type float).  Implicit conversion to integers using __int__ is deprecated, and may be removed in a future version of Python.\n",
      "  polygon(screen, line_color, right_line_coors)\n"
     ]
    }
   ],
   "source": [
    "import pygame\n",
    "from pygame.draw import *\n",
    "\n",
    "pygame.init()\n",
    "\n",
    "# User params\n",
    "# Face\n",
    "face_center = [750, 400] # You can change it and (probably) script won't crash\n",
    "face_radius = 300 # You also can scale the picture\n",
    "\n",
    "# Developer params\n",
    "# Face\n",
    "face_color = [255, 255, 0]\n",
    "# General eye\n",
    "eye_color = [255, 0, 0]\n",
    "ball_color = [0, 0, 0]\n",
    "# Left eye\n",
    "left_eye_center = [face_center[0] - face_radius // 2, face_center[1] - face_radius // 2]\n",
    "left_eye_radius = face_radius // 6\n",
    "left_ball_radius = left_eye_radius // 2\n",
    "# Right eye\n",
    "right_eye_center = [face_center[0] + face_radius // 2, face_center[1] - face_radius // 2]\n",
    "right_eye_radius = face_radius // 8\n",
    "right_ball_radius = right_eye_radius // 2\n",
    "# Mouth\n",
    "mouth_color = [255, 0, 0]\n",
    "mouth_start_x = face_center[0] - face_radius // 2\n",
    "mouth_start_y = face_center[1] + face_radius // 2\n",
    "mouth_x = face_radius\n",
    "mouth_y = face_radius // 4\n",
    "# General line\n",
    "line_color = [255, 0, 0]\n",
    "# Left line\n",
    "left_line_coors = [(left_eye_center[0] + left_eye_radius * 2, left_eye_center[1]),\n",
    "                  (left_eye_center[0] + left_eye_radius * 2.5, left_eye_center[1] - left_eye_radius),\n",
    "                  (left_eye_center[0] - left_eye_radius, left_eye_center[1] - left_eye_radius * 4),\n",
    "                  (left_eye_center[0] - left_eye_radius * 2, left_eye_center[1] - left_eye_radius * 3)]\n",
    "# Right line\n",
    "right_line_coors = [(right_eye_center[0] - right_eye_radius * 2, right_eye_center[1]),\n",
    "                  (right_eye_center[0] + right_eye_radius, right_eye_center[1] - right_eye_radius * 4),\n",
    "                  (right_eye_center[0] - right_eye_radius * 0.5, right_eye_center[1] - right_eye_radius * 5),\n",
    "                  (right_eye_center[0] - right_eye_radius * 3, right_eye_center[1] - right_eye_radius * 1.5)]\n",
    "# Screen\n",
    "FPS = 30\n",
    "screen = pygame.display.set_mode((1500, 800))\n",
    "\n",
    "circle(screen, face_color, face_center, face_radius)\n",
    "circle(screen, eye_color, left_eye_center, left_eye_radius)\n",
    "circle(screen, eye_color, right_eye_center, right_eye_radius)\n",
    "circle(screen, ball_color, left_eye_center, left_ball_radius)\n",
    "circle(screen, ball_color, right_eye_center, right_ball_radius)\n",
    "rect(screen, mouth_color, (mouth_start_x, mouth_start_y, mouth_x, mouth_y))\n",
    "polygon(screen, line_color, left_line_coors)\n",
    "polygon(screen, line_color, right_line_coors)\n",
    "\n",
    "pygame.display.update()\n",
    "clock = pygame.time.Clock()\n",
    "finished = False\n",
    "\n",
    "while not finished:\n",
    "    clock.tick(FPS)\n",
    "    for event in pygame.event.get():\n",
    "        if event.type == pygame.QUIT:\n",
    "            finished = True\n",
    "\n",
    "pygame.quit()"
   ]
  },
  {
   "cell_type": "code",
   "execution_count": null,
   "metadata": {},
   "outputs": [],
   "source": []
  }
 ],
 "metadata": {
  "kernelspec": {
   "display_name": "Python 3",
   "language": "python",
   "name": "python3"
  },
  "language_info": {
   "codemirror_mode": {
    "name": "ipython",
    "version": 3
   },
   "file_extension": ".py",
   "mimetype": "text/x-python",
   "name": "python",
   "nbconvert_exporter": "python",
   "pygments_lexer": "ipython3",
   "version": "3.8.3"
  }
 },
 "nbformat": 4,
 "nbformat_minor": 4
}
